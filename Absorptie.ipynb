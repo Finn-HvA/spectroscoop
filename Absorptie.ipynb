{
 "cells": [
  {
   "cell_type": "code",
   "execution_count": 4,
   "id": "ab40f231",
   "metadata": {},
   "outputs": [
    {
     "name": "stdout",
     "output_type": "stream",
     "text": [
      "Using backend: MSMF\n",
      "\n",
      "Testing Video Capture Properties:\n",
      "CAP_PROP_POS_MSEC: 0.0\n",
      "CAP_PROP_POS_FRAMES: 0.0\n",
      "CAP_PROP_POS_AVI_RATIO: Not supported by this device.\n",
      "CAP_PROP_FRAME_WIDTH: 640.0\n",
      "CAP_PROP_FRAME_HEIGHT: 480.0\n",
      "CAP_PROP_FPS: 15.0\n",
      "CAP_PROP_FOURCC: 22.0\n",
      "CAP_PROP_FRAME_COUNT: Not supported by this device.\n",
      "CAP_PROP_BRIGHTNESS: 8.0\n",
      "CAP_PROP_CONTRAST: 9.0\n",
      "CAP_PROP_SATURATION: 8.0\n",
      "CAP_PROP_HUE: 0.0\n",
      "CAP_PROP_GAIN: 8.0\n",
      "CAP_PROP_EXPOSURE: -7.0\n",
      "CAP_PROP_CONVERT_RGB: 1.0\n",
      "CAP_PROP_ZOOM: Not supported by this device.\n",
      "CAP_PROP_FOCUS: 0.0\n",
      "CAP_PROP_AUTO_EXPOSURE: 0.0\n",
      "CAP_PROP_AUTO_WB: Not supported by this device.\n",
      "\n",
      "Real-Time Video Properties Demonstration (Press 'q' to exit):\n",
      "Time: 30424845.08 ms | Frame: 0.0/-1\n",
      "Properties Not Demonstrated Directly:\n",
      "CAP_PROP_WHITE_BALANCE_BLUE_U: Not widely supported.\n",
      "CAP_PROP_RECTIFICATION: Specific to stereo cameras.\n",
      "CAP_PROP_MONOCHROME: Device-dependent; not commonly supported.\n",
      "CAP_PROP_SHARPNESS: Requires specific hardware.\n",
      "CAP_PROP_TRIGGER: Relevant for hardware triggers (e.g., industrial cameras).\n",
      "CAP_PROP_TRIGGER_DELAY: Hardware-specific.\n",
      "CAP_PROP_TEMPERATURE: Depends on thermal cameras.\n",
      "CAP_PROP_GUID: Used for device identification.\n",
      "CAP_PROP_IRIS: Applicable to advanced cameras with iris control.\n",
      "CAP_PROP_SETTINGS: Opens camera settings dialog (Windows-only).\n"
     ]
    }
   ],
   "source": [
    "import cv2\n",
    "\n",
    "def demonstrate_properties(cap):\n",
    "    \"\"\"\n",
    "    Test and display OpenCV properties of the video capture device.\n",
    "    \"\"\"\n",
    "    # List of properties to demonstrate\n",
    "    properties = {\n",
    "        \"CAP_PROP_POS_MSEC\": cv2.CAP_PROP_POS_MSEC,\n",
    "        \"CAP_PROP_POS_FRAMES\": cv2.CAP_PROP_POS_FRAMES,\n",
    "        \"CAP_PROP_POS_AVI_RATIO\": cv2.CAP_PROP_POS_AVI_RATIO,\n",
    "        \"CAP_PROP_FRAME_WIDTH\": cv2.CAP_PROP_FRAME_WIDTH,\n",
    "        \"CAP_PROP_FRAME_HEIGHT\": cv2.CAP_PROP_FRAME_HEIGHT,\n",
    "        \"CAP_PROP_FPS\": cv2.CAP_PROP_FPS,\n",
    "        \"CAP_PROP_FOURCC\": cv2.CAP_PROP_FOURCC,\n",
    "        \"CAP_PROP_FRAME_COUNT\": cv2.CAP_PROP_FRAME_COUNT,\n",
    "        \"CAP_PROP_BRIGHTNESS\": cv2.CAP_PROP_BRIGHTNESS,\n",
    "        \"CAP_PROP_CONTRAST\": cv2.CAP_PROP_CONTRAST,\n",
    "        \"CAP_PROP_SATURATION\": cv2.CAP_PROP_SATURATION,\n",
    "        \"CAP_PROP_HUE\": cv2.CAP_PROP_HUE,\n",
    "        \"CAP_PROP_GAIN\": cv2.CAP_PROP_GAIN,\n",
    "        \"CAP_PROP_EXPOSURE\": cv2.CAP_PROP_EXPOSURE,\n",
    "        \"CAP_PROP_CONVERT_RGB\": cv2.CAP_PROP_CONVERT_RGB,\n",
    "        \"CAP_PROP_ZOOM\": cv2.CAP_PROP_ZOOM,\n",
    "        \"CAP_PROP_FOCUS\": cv2.CAP_PROP_FOCUS,\n",
    "        \"CAP_PROP_AUTO_EXPOSURE\": cv2.CAP_PROP_AUTO_EXPOSURE,\n",
    "        \"CAP_PROP_AUTO_WB\": cv2.CAP_PROP_AUTO_WB,\n",
    "    }\n",
    "\n",
    "    print(\"\\nTesting Video Capture Properties:\")\n",
    "    for prop_name, prop_id in properties.items():\n",
    "        value = cap.get(prop_id)\n",
    "        if value == -1:\n",
    "            print(f\"{prop_name}: Not supported by this device.\")\n",
    "        else:\n",
    "            print(f\"{prop_name}: {value}\")\n",
    "\n",
    "\n",
    "def real_time_demo(cap):\n",
    "    \"\"\"\n",
    "    Demonstrates real-time properties while playing the video/camera feed.\n",
    "    \"\"\"\n",
    "    print(\"\\nReal-Time Video Properties Demonstration (Press 'q' to exit):\")\n",
    "    while cap.isOpened():\n",
    "        ret, frame = cap.read()\n",
    "        if not ret:\n",
    "            print(\"End of video or no frames to capture.\")\n",
    "            break\n",
    "\n",
    "        # Display the current frame\n",
    "        current_time = cap.get(cv2.CAP_PROP_POS_MSEC)\n",
    "        current_frame = cap.get(cv2.CAP_PROP_POS_FRAMES)\n",
    "        total_frames = cap.get(cv2.CAP_PROP_FRAME_COUNT)\n",
    "\n",
    "        # Show the video frame\n",
    "        cv2.imshow(\"Video\", frame)\n",
    "        print(f\"Time: {current_time:.2f} ms | Frame: {current_frame}/{total_frames:.0f}\", end=\"\\r\")\n",
    "\n",
    "        # Press 'q' to exit\n",
    "        if cv2.waitKey(1) & 0xFF == ord('q'):\n",
    "            break\n",
    "\n",
    "\n",
    "def unsupported_properties_section():\n",
    "    \"\"\"\n",
    "    Highlights properties that are hard to demonstrate in a standard environment.\n",
    "    \"\"\"\n",
    "    print(\"\\nProperties Not Demonstrated Directly:\")\n",
    "    unsupported_properties = {\n",
    "        \"CAP_PROP_WHITE_BALANCE_BLUE_U\": \"Not widely supported.\",\n",
    "        \"CAP_PROP_RECTIFICATION\": \"Specific to stereo cameras.\",\n",
    "        \"CAP_PROP_MONOCHROME\": \"Device-dependent; not commonly supported.\",\n",
    "        \"CAP_PROP_SHARPNESS\": \"Requires specific hardware.\",\n",
    "        \"CAP_PROP_TRIGGER\": \"Relevant for hardware triggers (e.g., industrial cameras).\",\n",
    "        \"CAP_PROP_TRIGGER_DELAY\": \"Hardware-specific.\",\n",
    "        \"CAP_PROP_TEMPERATURE\": \"Depends on thermal cameras.\",\n",
    "        \"CAP_PROP_GUID\": \"Used for device identification.\",\n",
    "        \"CAP_PROP_IRIS\": \"Applicable to advanced cameras with iris control.\",\n",
    "        \"CAP_PROP_SETTINGS\": \"Opens camera settings dialog (Windows-only).\",\n",
    "    }\n",
    "\n",
    "    for prop, description in unsupported_properties.items():\n",
    "        print(f\"{prop}: {description}\")\n",
    "\n",
    "\n",
    "# Main script\n",
    "if __name__ == \"__main__\":\n",
    "    # Video source (0 for webcam, or provide a video file path)\n",
    "    video_source = 1  # Replace with 'sample_video.mp4' for video file\n",
    "    cap = cv2.VideoCapture(video_source)\n",
    "\n",
    "    if not cap.isOpened():\n",
    "        print(\"Error: Could not open video source.\")\n",
    "        exit()\n",
    "\n",
    "    print(f\"Using backend: {cap.getBackendName()}\")\n",
    "\n",
    "    # Demonstrate properties\n",
    "    demonstrate_properties(cap)\n",
    "\n",
    "    # Real-time demonstration\n",
    "    real_time_demo(cap)\n",
    "\n",
    "    # Close video capture and windows\n",
    "    cap.release()\n",
    "    cv2.destroyAllWindows()\n",
    "\n",
    "    # Unsupported properties section\n",
    "    unsupported_properties_section()"
   ]
  },
  {
   "cell_type": "code",
   "execution_count": null,
   "id": "1389ba7c",
   "metadata": {},
   "outputs": [],
   "source": [
    "import cv2\n",
    "def list_available_cameras(max_cameras=5):\n",
    "    available = []\n",
    "    for idx in range(max_cameras):\n",
    "        cap = cv2.VideoCapture(idx)\n",
    "        if cap.isOpened():\n",
    "            available.append(idx)\n",
    "            cap.release()\n",
    "    print(\"Beschikbare camera's:\", available)\n",
    "\n",
    "list_available_cameras()\n",
    "camera = cv2.VideoCapture(1)  # Maak verbinding met camera ID 1\n",
    "\n",
    "# Stel een vaste belichtingstijd in (indien ondersteund)\n",
    "camera.set(cv2.CAP_PROP_AUTO_EXPOSURE, 0)  # Auto-exposure uit (driver-afhankelijk)\n",
    "camera.set(cv2.CAP_PROP_EXPOSURE, -5)\n",
    "camera.set(cv2.CAP_PROP_AUTO_WB, 0)         # Handmatige belichting (waarde afhankelijk van driver)\n",
    "\n",
    "while True:\n",
    "    retval, frame = camera.read()\n",
    "    if not retval:\n",
    "        break\n",
    "\n",
    "    # Toon live beeld in een venster\n",
    "    cv2.imshow(\"Live feed\", frame)\n",
    "\n",
    "    # Stoppen als je op 'q' drukt\n",
    "    if cv2.waitKey(1) & 0xFF == ord('q'):\n",
    "        break\n",
    "\n",
    "camera.release()\n",
    "cv2.destroyAllWindows()\n"
   ]
  },
  {
   "cell_type": "code",
   "execution_count": null,
   "id": "71871748",
   "metadata": {},
   "outputs": [],
   "source": [
    "# Foto\n",
    "import matplotlib.pyplot as plt\n",
    "\n",
    "camera = cv2.VideoCapture(1) # Maak verbinding met int : camera id\n",
    "\n",
    "camera.set(cv2.CAP_PROP_AUTO_EXPOSURE, 0.25)  # Auto-exposure uit (driver-afhankelijk)\n",
    "camera.set(cv2.CAP_PROP_EXPOSURE, -5)       # Handmatige belichting (waarde afhankelijk van driver)\n",
    "\n",
    "retval, frame = camera.read() # lees de camera uit\n",
    "\n",
    "plt.imshow(frame) # geef het uitgelezen frame weer\n",
    "\n",
    "camera.release() # verbreek de verbinding met de camera"
   ]
  },
  {
   "cell_type": "code",
   "execution_count": null,
   "id": "2285397e",
   "metadata": {},
   "outputs": [],
   "source": [
    "import skimage\n",
    "\n",
    "\n",
    "grayscale = skimage.color.rgb2gray(frame) # RGB -> grayscale\n",
    "\n",
    "I = grayscale.sum(axis=0) # row wise summation\n",
    "\n",
    "\n",
    "plt.subplot(2,1,1)\n",
    "plt.imshow(grayscale, cmap=plt.cm.gray, aspect=\"auto\")\n",
    "xmin, xmax = plt.xlim() # grab min max values from imshow\n",
    "\n",
    "plt.subplot(2,1,2)\n",
    "plt.plot(I, c='black')\n",
    "\n",
    "plt.xlim(xmin,xmax) # set min max values\n",
    "\n",
    "plt.grid()\n",
    "plt.xlabel(r\"pixel [-]\")\n",
    "plt.ylabel(r\"intensity [a.u.]\")"
   ]
  },
  {
   "cell_type": "code",
   "execution_count": null,
   "id": "33bdf6bb",
   "metadata": {},
   "outputs": [
    {
     "ename": "SyntaxError",
     "evalue": "unterminated string literal (detected at line 2) (3892418137.py, line 2)",
     "output_type": "error",
     "traceback": [
      "\u001b[1;36m  Cell \u001b[1;32mIn[1], line 2\u001b[1;36m\u001b[0m\n\u001b[1;33m    print(\"Totale intensiteit: I_frame\u001b[0m\n\u001b[1;37m          ^\u001b[0m\n\u001b[1;31mSyntaxError\u001b[0m\u001b[1;31m:\u001b[0m unterminated string literal (detected at line 2)\n"
     ]
    }
   ],
   "source": [
    "import numpy as np\n",
    "\n",
    "I_frame = grayscale.sum() # sommatie van één frame\n",
    "print(\"Totale intensiteit: \" + I_frame)\n",
    "\n",
    "I_0 = 1\n",
    "\n",
    "def absorptie(I, I_0):\n",
    "    return -np.log(I / I_0)\n",
    "\n",
    "print(\"Absorptie: \", absorptie(I_frame, I_0))"
   ]
  },
  {
   "cell_type": "code",
   "execution_count": null,
   "id": "2e736640",
   "metadata": {},
   "outputs": [
    {
     "data": {
      "text/plain": [
       "Text(0, 0.5, 'Concentratie [mg/L]')"
      ]
     },
     "execution_count": 19,
     "metadata": {},
     "output_type": "execute_result"
    },
    {
     "data": {
      "image/png": "[encoded data removed]",
      "text/plain": [
       "<Figure size 640x480 with 1 Axes>"
      ]
     },
     "metadata": {},
     "output_type": "display_data"
    }
   ],
   "source": [
    "import matplotlib.pyplot as plt\n",
    "import numpy as np\n",
    "\n",
    "absorptie_array = np.array([2,3,5,7,11,13])\n",
    "consentratie_array = np.array([2,3,5,7,11,13]) \n",
    "intensieit_array = np.array([2,3,5,7,11,13])\n",
    "\n",
    "plt.plot(absorptie_array, consentratie_array,  marker='o')\n",
    "plt.xlabel(\"Intensiteit [a.u.]\")\n",
    "plt.ylabel(\"Concentratie [mg/L]\")"
   ]
  },
  {
   "cell_type": "code",
   "execution_count": 21,
   "id": "c5161c7e",
   "metadata": {},
   "outputs": [
    {
     "name": "stdout",
     "output_type": "stream",
     "text": [
      "a = 1.0 b = 0.0\n"
     ]
    },
    {
     "data": {
      "text/plain": [
       "Text(0, 0.5, 'Concentratie [mg/L]')"
      ]
     },
     "execution_count": 21,
     "metadata": {},
     "output_type": "execute_result"
    },
    {
     "data": {
      "image/png": "[encoded data removed]",
      "text/plain": [
       "<Figure size 640x480 with 1 Axes>"
      ]
     },
     "metadata": {},
     "output_type": "display_data"
    }
   ],
   "source": [
    "from scipy.optimize import curve_fit\n",
    "\n",
    "def trendlijn(x , a, b):\n",
    "    return a * x + b\n",
    "\n",
    "popt, pcov = curve_fit(trendlijn, absorptie_array, consentratie_array)\n",
    "consentratie_fit_y = trendlijn(absorptie_array, *popt)\n",
    "\n",
    "print(\"a =\", popt[0], \"b =\", popt[1])\n",
    "a = popt[0]\n",
    "b = popt[1]\n",
    "\n",
    "plt.plot(absorptie_array, consentratie_array, marker='o')\n",
    "plt.plot(absorptie_array, consentratie_fit_y)\n",
    "plt.xlabel(\"Absorptie [a.u.]\")\n",
    "plt.ylabel(\"Concentratie [mg/L]\")"
   ]
  },
  {
   "cell_type": "code",
   "execution_count": null,
   "id": "90840256",
   "metadata": {},
   "outputs": [
    {
     "name": "stdout",
     "output_type": "stream",
     "text": [
      "Onbekende concentratie: 6.0\n"
     ]
    }
   ],
   "source": [
    "def onbekende_concentratie(A_onbekend):\n",
    "    return a * A_onbekend + b\n",
    "\n",
    "A_onbekend = 6\n",
    "\n",
    "print(\"De onbekende concentratie is:\", onbekende_concentratie(A_onbekend))"
   ]
  }
 ],
 "metadata": {
  "kernelspec": {
   "display_name": "Python (pyaudio_env)",
   "language": "python",
   "name": "pyaudio_env"
  },
  "language_info": {
   "codemirror_mode": {
    "name": "ipython",
    "version": 3
   },
   "file_extension": ".py",
   "mimetype": "text/x-python",
   "name": "python",
   "nbconvert_exporter": "python",
   "pygments_lexer": "ipython3",
   "version": "3.10.16"
  }
 },
 "nbformat": 4,
 "nbformat_minor": 5
}
